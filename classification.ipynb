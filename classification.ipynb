{
  "nbformat": 4,
  "nbformat_minor": 0,
  "metadata": {
    "colab": {
      "name": "classification.ipynb",
      "provenance": [],
      "collapsed_sections": []
    },
    "kernelspec": {
      "name": "python3",
      "display_name": "Python 3"
    },
    "accelerator": "GPU"
  },
  "cells": [
    {
      "cell_type": "markdown",
      "metadata": {
        "id": "kVWs7BU-44iF",
        "colab_type": "text"
      },
      "source": [
        "## 첫번째 신경망 훈련하기: 기초적인 분류 문제\n",
        "- 운동화나 셔츠 같은 옷 이미지를 분류하는 신경망 모델 훈련"
      ]
    },
    {
      "cell_type": "code",
      "metadata": {
        "id": "UDYUe2sP8l7h",
        "colab_type": "code",
        "outputId": "5e8833c7-7884-4a1a-c45a-a7b8bc86fcbe",
        "colab": {
          "base_uri": "https://localhost:8080/",
          "height": 34
        }
      },
      "source": [
        "try:\n",
        "  %tensorflow_version 2.x\n",
        "except Exception:\n",
        "  pass"
      ],
      "execution_count": 1,
      "outputs": [
        {
          "output_type": "stream",
          "text": [
            "TensorFlow 2.x selected.\n"
          ],
          "name": "stdout"
        }
      ]
    },
    {
      "cell_type": "code",
      "metadata": {
        "id": "GkNopV9X4_Zc",
        "colab_type": "code",
        "outputId": "c07f781e-0d5f-4582-aa0e-6d8145ae26f5",
        "colab": {
          "base_uri": "https://localhost:8080/",
          "height": 34
        }
      },
      "source": [
        "from __future__ import absolute_import, division, print_function, unicode_literals\n",
        "\n",
        "import tensorflow as tf\n",
        "from tensorflow import keras\n",
        "\n",
        "import numpy as np\n",
        "import matplotlib.pyplot as plt\n",
        "\n",
        "print(tf.__version__)"
      ],
      "execution_count": 2,
      "outputs": [
        {
          "output_type": "stream",
          "text": [
            "2.1.0-rc1\n"
          ],
          "name": "stdout"
        }
      ]
    },
    {
      "cell_type": "markdown",
      "metadata": {
        "id": "_GPo5ZSD896C",
        "colab_type": "text"
      },
      "source": [
        "### 패션 MNIST 데이터셋 임포트하기\n",
        "- [패션 MNIST](https://github.com/zalandoresearch/fashion-mnist) 사용\n",
        "  - 10개의 범주(category), 70,000개의 흑백이미지로 구성\n",
        "  - 이미지 해상도(28x28 픽셀), 0~255사이의 값\n",
        "  - 훈련이미지: 60,000개 사용\n",
        "  - 평가이미지: 10,000개 사용\n",
        "  - 레이블: 0~9까지의 정수배열, 옷의 클래스를 나타냄\n",
        "    - 0: T-shirt/top\n",
        "    - 1: Trouser\n",
        "    - 2: Pullover\n",
        "    - 3: Dress\n",
        "    - 4: Coat\n",
        "    - 5: Sandal\n",
        "    - 6: Shirt\n",
        "    - 7: Sneaker\n",
        "    - 8: Bag\n",
        "    - 9: Ankle boot"
      ]
    },
    {
      "cell_type": "code",
      "metadata": {
        "id": "hJIaz-NM9wTh",
        "colab_type": "code",
        "outputId": "58461129-4a90-40ff-8f20-bd236c2305a9",
        "colab": {
          "base_uri": "https://localhost:8080/",
          "height": 173
        }
      },
      "source": [
        "fashion_mnist = keras.datasets.fashion_mnist\n",
        "(train_images, train_labels), (test_images, test_labels) = fashion_mnist.load_data()"
      ],
      "execution_count": 3,
      "outputs": [
        {
          "output_type": "stream",
          "text": [
            "Downloading data from https://storage.googleapis.com/tensorflow/tf-keras-datasets/train-labels-idx1-ubyte.gz\n",
            "32768/29515 [=================================] - 0s 0us/step\n",
            "Downloading data from https://storage.googleapis.com/tensorflow/tf-keras-datasets/train-images-idx3-ubyte.gz\n",
            "26427392/26421880 [==============================] - 0s 0us/step\n",
            "Downloading data from https://storage.googleapis.com/tensorflow/tf-keras-datasets/t10k-labels-idx1-ubyte.gz\n",
            "8192/5148 [===============================================] - 0s 0us/step\n",
            "Downloading data from https://storage.googleapis.com/tensorflow/tf-keras-datasets/t10k-images-idx3-ubyte.gz\n",
            "4423680/4422102 [==============================] - 0s 0us/step\n"
          ],
          "name": "stdout"
        }
      ]
    },
    {
      "cell_type": "code",
      "metadata": {
        "id": "PdSWoUkO_DNl",
        "colab_type": "code",
        "outputId": "f5d97ae1-0686-47c1-f6b9-2789541e00c9",
        "colab": {
          "base_uri": "https://localhost:8080/",
          "height": 68
        }
      },
      "source": [
        "print(type(train_images)) # load_data()가 numpy배열을 반환\n",
        "print(train_images.shape, train_labels.shape) # 훈련세트\n",
        "print(test_images.shape, test_labels.shape) # 테스트세트"
      ],
      "execution_count": 4,
      "outputs": [
        {
          "output_type": "stream",
          "text": [
            "<class 'numpy.ndarray'>\n",
            "(60000, 28, 28) (60000,)\n",
            "(10000, 28, 28) (10000,)\n"
          ],
          "name": "stdout"
        }
      ]
    },
    {
      "cell_type": "code",
      "metadata": {
        "id": "93j0LJqcAxl6",
        "colab_type": "code",
        "colab": {}
      },
      "source": [
        "class_names = ['T-shirt/top', 'Trouser', 'Pullover', 'Dress', 'Coat',\n",
        "               'Sandal', 'Shirt', 'Sneaker', 'Bag', 'Ankle boot']"
      ],
      "execution_count": 0,
      "outputs": []
    },
    {
      "cell_type": "markdown",
      "metadata": {
        "id": "YrJcR5ZdClXB",
        "colab_type": "text"
      },
      "source": [
        "### 데이터 탐색\n",
        "- 훈련세트: 60,000개 이미지"
      ]
    },
    {
      "cell_type": "code",
      "metadata": {
        "id": "dNddXgjWCraD",
        "colab_type": "code",
        "outputId": "431cd67b-b511-439c-dc10-4bd8b803504c",
        "colab": {
          "base_uri": "https://localhost:8080/",
          "height": 34
        }
      },
      "source": [
        "train_images.shape"
      ],
      "execution_count": 6,
      "outputs": [
        {
          "output_type": "execute_result",
          "data": {
            "text/plain": [
              "(60000, 28, 28)"
            ]
          },
          "metadata": {
            "tags": []
          },
          "execution_count": 6
        }
      ]
    },
    {
      "cell_type": "code",
      "metadata": {
        "id": "jNqKh_nHCync",
        "colab_type": "code",
        "outputId": "13d9bda9-fc57-4cc4-b095-f521cea54d65",
        "colab": {
          "base_uri": "https://localhost:8080/",
          "height": 34
        }
      },
      "source": [
        "len(train_labels)"
      ],
      "execution_count": 7,
      "outputs": [
        {
          "output_type": "execute_result",
          "data": {
            "text/plain": [
              "60000"
            ]
          },
          "metadata": {
            "tags": []
          },
          "execution_count": 7
        }
      ]
    },
    {
      "cell_type": "code",
      "metadata": {
        "id": "JvaBASSsC2_E",
        "colab_type": "code",
        "outputId": "44472e9b-6744-4ce1-e0e8-5937a47aacd0",
        "colab": {
          "base_uri": "https://localhost:8080/",
          "height": 34
        }
      },
      "source": [
        "train_labels  # label: 0~9사이의 정수"
      ],
      "execution_count": 8,
      "outputs": [
        {
          "output_type": "execute_result",
          "data": {
            "text/plain": [
              "array([9, 0, 0, ..., 3, 0, 5], dtype=uint8)"
            ]
          },
          "metadata": {
            "tags": []
          },
          "execution_count": 8
        }
      ]
    },
    {
      "cell_type": "markdown",
      "metadata": {
        "id": "bzJj7IotC67l",
        "colab_type": "text"
      },
      "source": [
        "- 테스트세트: 10,000개 이미지"
      ]
    },
    {
      "cell_type": "code",
      "metadata": {
        "id": "wTPz__Y4DYIS",
        "colab_type": "code",
        "outputId": "5e4a38ac-f6a6-45f8-cd7a-ba73a48346e5",
        "colab": {
          "base_uri": "https://localhost:8080/",
          "height": 34
        }
      },
      "source": [
        "test_images.shape"
      ],
      "execution_count": 9,
      "outputs": [
        {
          "output_type": "execute_result",
          "data": {
            "text/plain": [
              "(10000, 28, 28)"
            ]
          },
          "metadata": {
            "tags": []
          },
          "execution_count": 9
        }
      ]
    },
    {
      "cell_type": "code",
      "metadata": {
        "id": "Nsn7G0yIDbvQ",
        "colab_type": "code",
        "outputId": "544423b8-b18b-483c-eb87-e86cc25f6926",
        "colab": {
          "base_uri": "https://localhost:8080/",
          "height": 34
        }
      },
      "source": [
        "len(test_labels)"
      ],
      "execution_count": 10,
      "outputs": [
        {
          "output_type": "execute_result",
          "data": {
            "text/plain": [
              "10000"
            ]
          },
          "metadata": {
            "tags": []
          },
          "execution_count": 10
        }
      ]
    },
    {
      "cell_type": "markdown",
      "metadata": {
        "id": "piXwdTt5DdQv",
        "colab_type": "text"
      },
      "source": [
        "### 데이터 전처리\n",
        "- 첫번째 훈련 이미지 시각화: 픽셀의 범위가 0~255사이"
      ]
    },
    {
      "cell_type": "code",
      "metadata": {
        "id": "4Vw282K8DhcK",
        "colab_type": "code",
        "outputId": "d81a8da1-67f0-49e3-b899-8777e2a19562",
        "colab": {
          "base_uri": "https://localhost:8080/",
          "height": 265
        }
      },
      "source": [
        "plt.figure()\n",
        "plt.imshow(train_images[0])\n",
        "plt.colorbar()\n",
        "plt.grid(False)\n",
        "plt.show()"
      ],
      "execution_count": 11,
      "outputs": [
        {
          "output_type": "display_data",
          "data": {
            "image/png": "[encoded data removed]",
            "text/plain": [
              "<Figure size 432x288 with 2 Axes>"
            ]
          },
          "metadata": {
            "tags": []
          }
        }
      ]
    },
    {
      "cell_type": "markdown",
      "metadata": {
        "id": "0GWXrgnZEDG_",
        "colab_type": "text"
      },
      "source": [
        "- 신경망 모델에 주입하기 위해 픽셀의 범위를 0~1사이로 조정\n",
        "  - 훈련세트와 테스트세트를 동일한 방식으로 전처러하는 것이 좋음"
      ]
    },
    {
      "cell_type": "code",
      "metadata": {
        "id": "GSLQQuMMEbmk",
        "colab_type": "code",
        "colab": {}
      },
      "source": [
        "train_images = train_images / 255.0\n",
        "test_images = test_images / 255.0"
      ],
      "execution_count": 0,
      "outputs": []
    },
    {
      "cell_type": "code",
      "metadata": {
        "id": "6GbzbT3XEjDS",
        "colab_type": "code",
        "outputId": "e04b9044-af84-4899-a305-9e0a2cf62ba2",
        "colab": {
          "base_uri": "https://localhost:8080/",
          "height": 589
        }
      },
      "source": [
        "plt.figure(figsize=(10,10))\n",
        "\n",
        "# 훈련세트 처음 25개 이미지 출력\n",
        "for i in range(25):\n",
        "  plt.subplot(5,5, i+1)\n",
        "  plt.xticks([])\n",
        "  plt.yticks([])\n",
        "  plt.grid(False)\n",
        "  plt.imshow(train_images[i], cmap=plt.cm.binary)\n",
        "  plt.xlabel(class_names[train_labels[i]])\n",
        "plt.show()"
      ],
      "execution_count": 13,
      "outputs": [
        {
          "output_type": "display_data",
          "data": {
            "image/png": "[encoded data removed]",
            "text/plain": [
              "<Figure size 720x720 with 25 Axes>"
            ]
          },
          "metadata": {
            "tags": []
          }
        }
      ]
    },
    {
      "cell_type": "markdown",
      "metadata": {
        "id": "-WBDLA1sFj8Z",
        "colab_type": "text"
      },
      "source": [
        "### 모델 구성\n",
        "**층설정**\n",
        "- 층(layer): 신경망의 기본 구성요소, 주입된 데이터에서 더 의미있는 표현(representation)을 추출\n",
        "  - [`tf.keras.layers.Flatten`](https://www.tensorflow.org/api_docs/python/tf/keras/layers/Flatten): 데이터 변환만 수행, 1차원 배열로 변환\n",
        "  - [`tf.keras.layers.Dense`](https://www.tensorflow.org/api_docs/python/tf/keras/layers/Dense): 밀집 연결(densely-connected) 또는 완전 연결(full-connected)층이라고 불림"
      ]
    },
    {
      "cell_type": "code",
      "metadata": {
        "id": "esEI8KWsHNNM",
        "colab_type": "code",
        "colab": {}
      },
      "source": [
        "model = keras.Sequential([\n",
        "                         keras.layers.Flatten(input_shape=(28, 28)),\n",
        "                         keras.layers.Dense(128, activation='relu'),\n",
        "                         keras.layers.Dense(10, activation='softmax') # 10개의 확률을 반환, 전체합은 1\n",
        "])"
      ],
      "execution_count": 0,
      "outputs": []
    },
    {
      "cell_type": "markdown",
      "metadata": {
        "id": "ZwRoxX2sGYiH",
        "colab_type": "text"
      },
      "source": [
        "**모델 컴파일**\n",
        "- 모델 훈련 전 필요한 설정\n",
        "  - 손실함수(Loss function): 훈련하는 동안 모델의 오차를 측정, 모델의 학습이 올바른 방향으로 향하도록 함수 최소화가 필요\n",
        "  - 옵티마이저(Optimize): 데이터와 손실함수를 바탕으로 모델의 업데이트 방법을 결정\n",
        "  - 지표(Metrics): 훈련단계와 테스트 단계를 모니터링하게 사용"
      ]
    },
    {
      "cell_type": "code",
      "metadata": {
        "id": "1H8BPLSYPxbQ",
        "colab_type": "code",
        "colab": {}
      },
      "source": [
        "model.compile(optimizer='adam',\n",
        "              loss='sparse_categorical_crossentropy',\n",
        "              metrics=['accuracy'])"
      ],
      "execution_count": 0,
      "outputs": []
    },
    {
      "cell_type": "markdown",
      "metadata": {
        "id": "qThbnWYMGjfY",
        "colab_type": "text"
      },
      "source": [
        "### 모델 훈련\n",
        "1. 훈련데이터를 모델에 주입: train_images, train_labels\n",
        "2. 모델이 이미와 레이블을 매핑하는 방법을 배움\n",
        "3. 테스트 세트에 대한 모델의 예측을 만듦: test_images에 해당\n",
        "4. 테스트 세트에 대한 예측이 레이블과 맞는지 확인: test_labels와 비교"
      ]
    },
    {
      "cell_type": "code",
      "metadata": {
        "id": "8n2shD2qRSSV",
        "colab_type": "code",
        "outputId": "9a04132d-7906-40a9-94cd-7d4b810106e4",
        "colab": {
          "base_uri": "https://localhost:8080/",
          "height": 241
        }
      },
      "source": [
        "model.fit(train_images, train_labels, epochs=5)"
      ],
      "execution_count": 16,
      "outputs": [
        {
          "output_type": "stream",
          "text": [
            "Train on 60000 samples\n",
            "Epoch 1/5\n",
            "60000/60000 [==============================] - 6s 100us/sample - loss: 0.4960 - accuracy: 0.8260\n",
            "Epoch 2/5\n",
            "60000/60000 [==============================] - 4s 69us/sample - loss: 0.3721 - accuracy: 0.8658\n",
            "Epoch 3/5\n",
            "60000/60000 [==============================] - 4s 68us/sample - loss: 0.3374 - accuracy: 0.8762\n",
            "Epoch 4/5\n",
            "60000/60000 [==============================] - 4s 67us/sample - loss: 0.3133 - accuracy: 0.8848\n",
            "Epoch 5/5\n",
            "60000/60000 [==============================] - 4s 72us/sample - loss: 0.2945 - accuracy: 0.8917\n"
          ],
          "name": "stdout"
        },
        {
          "output_type": "execute_result",
          "data": {
            "text/plain": [
              "<tensorflow.python.keras.callbacks.History at 0x7f55f03b85f8>"
            ]
          },
          "metadata": {
            "tags": []
          },
          "execution_count": 16
        }
      ]
    },
    {
      "cell_type": "markdown",
      "metadata": {
        "id": "krCS_-YQGlzK",
        "colab_type": "text"
      },
      "source": [
        "### 정확도 평가\n",
        "- 테스트 세트에서 모델의 성능을 비교하는 것\n",
        "  - 훈련세트의 정확도와 테스트 세트의 정확도 사이의 차이는 과대적합(overfitting) 때문\n",
        "    - 과대적합은 머신러닝 모델이 훈련 데이터보다 새로운 데이터에서 성능이 낮아지는 현상"
      ]
    },
    {
      "cell_type": "code",
      "metadata": {
        "id": "XLzQlGsiR0mJ",
        "colab_type": "code",
        "outputId": "3d9dd7b4-573c-411b-da14-0a41f80b9e70",
        "colab": {
          "base_uri": "https://localhost:8080/",
          "height": 68
        }
      },
      "source": [
        "test_loss, test_acc = model.evaluate(test_images, test_labels, verbose=2)\n",
        "print('\\n테스트 정확도:', test_acc)"
      ],
      "execution_count": 17,
      "outputs": [
        {
          "output_type": "stream",
          "text": [
            "10000/10000 - 1s - loss: 0.3555 - accuracy: 0.8744\n",
            "\n",
            "테스트 정확도: 0.8744\n"
          ],
          "name": "stdout"
        }
      ]
    },
    {
      "cell_type": "markdown",
      "metadata": {
        "id": "Onj5-iP8Gomp",
        "colab_type": "text"
      },
      "source": [
        "### 예측 만들기"
      ]
    },
    {
      "cell_type": "code",
      "metadata": {
        "id": "OaKu8vqVGqqK",
        "colab_type": "code",
        "colab": {}
      },
      "source": [
        "predictions = model.predict(test_images)"
      ],
      "execution_count": 0,
      "outputs": []
    },
    {
      "cell_type": "code",
      "metadata": {
        "id": "grRoLGi1S5nI",
        "colab_type": "code",
        "outputId": "d97f9307-f6a2-4e4d-dea2-5f7206f6329d",
        "colab": {
          "base_uri": "https://localhost:8080/",
          "height": 68
        }
      },
      "source": [
        "predictions[0]"
      ],
      "execution_count": 19,
      "outputs": [
        {
          "output_type": "execute_result",
          "data": {
            "text/plain": [
              "array([5.4779186e-05, 1.9705626e-08, 4.5254851e-08, 1.0074039e-08,\n",
              "       1.4064354e-07, 3.9456915e-03, 1.5197660e-06, 9.9437140e-02,\n",
              "       1.1629425e-06, 8.9655954e-01], dtype=float32)"
            ]
          },
          "metadata": {
            "tags": []
          },
          "execution_count": 19
        }
      ]
    },
    {
      "cell_type": "code",
      "metadata": {
        "id": "NPE07578S7DO",
        "colab_type": "code",
        "outputId": "6b9c7231-2400-40ad-c348-0b34f0655f20",
        "colab": {
          "base_uri": "https://localhost:8080/",
          "height": 34
        }
      },
      "source": [
        "np.argmax(predictions[0])"
      ],
      "execution_count": 20,
      "outputs": [
        {
          "output_type": "execute_result",
          "data": {
            "text/plain": [
              "9"
            ]
          },
          "metadata": {
            "tags": []
          },
          "execution_count": 20
        }
      ]
    },
    {
      "cell_type": "code",
      "metadata": {
        "id": "j6kyhK38S_JX",
        "colab_type": "code",
        "outputId": "89588452-0a02-4018-bd74-e9dbec35a928",
        "colab": {
          "base_uri": "https://localhost:8080/",
          "height": 34
        }
      },
      "source": [
        "test_labels[0]"
      ],
      "execution_count": 21,
      "outputs": [
        {
          "output_type": "execute_result",
          "data": {
            "text/plain": [
              "9"
            ]
          },
          "metadata": {
            "tags": []
          },
          "execution_count": 21
        }
      ]
    },
    {
      "cell_type": "code",
      "metadata": {
        "id": "08S-c6NOTDHw",
        "colab_type": "code",
        "colab": {}
      },
      "source": [
        "def plot_image(i, predictions, true_label, img):\n",
        "  prediction_array, true_label, img = predictions[i], true_label[i], img[i]\n",
        "  plt.grid(False)\n",
        "  plt.xticks([])\n",
        "  plt.yticks([])\n",
        "\n",
        "  plt.imshow(img, cmap=plt.cm.binary)\n",
        "  \n",
        "  predicted_label = np.argmax(prediction_array)\n",
        "  if predicted_label == true_label:\n",
        "    color = 'blue'\n",
        "  else:\n",
        "    color = 'red'\n",
        "\n",
        "  plt.xlabel(\"{} {:2.0f}% ({})\".format(class_names[predicted_label],\n",
        "                                       100*np.max(prediction_array),\n",
        "                                       class_names[true_label]),\n",
        "                                       color=color)\n",
        "\n",
        "def plot_value_array(i, predictions_array, true_label):\n",
        "  predictions_array, true_label = predictions_array[i], true_label[i]\n",
        "  plt.grid(False)\n",
        "  plt.xticks([])\n",
        "  plt.yticks([])\n",
        "  thisplot = plt.bar(range(10), predictions_array, color=\"#777777\")\n",
        "  plt.ylim([0,1])\n",
        "  predicted_label = np.argmax(predictions_array)\n",
        "\n",
        "  thisplot[predicted_label].set_color('red')\n",
        "  thisplot[true_label].set_color('blue')"
      ],
      "execution_count": 0,
      "outputs": []
    },
    {
      "cell_type": "code",
      "metadata": {
        "id": "r59eh-IdTifM",
        "colab_type": "code",
        "outputId": "6673799e-95b1-47fa-e9f8-f3204621a178",
        "colab": {
          "base_uri": "https://localhost:8080/",
          "height": 203
        }
      },
      "source": [
        "i=0\n",
        "plt.figure(figsize=(6,3))\n",
        "plt.subplot(1,2,1)\n",
        "plot_image(i, predictions, test_labels, test_images)\n",
        "plt.subplot(1,2,2)\n",
        "plot_value_array(i, predictions, test_labels)\n",
        "plt.show()"
      ],
      "execution_count": 23,
      "outputs": [
        {
          "output_type": "display_data",
          "data": {
            "image/png": "[encoded data removed]",
            "text/plain": [
              "<Figure size 432x216 with 2 Axes>"
            ]
          },
          "metadata": {
            "tags": []
          }
        }
      ]
    },
    {
      "cell_type": "code",
      "metadata": {
        "id": "2_pkNYdiVtEG",
        "colab_type": "code",
        "outputId": "248c4dce-2622-49e0-fa4d-5a85bd5fd8af",
        "colab": {
          "base_uri": "https://localhost:8080/",
          "height": 203
        }
      },
      "source": [
        "i=12\n",
        "plt.figure(figsize=(6,3))\n",
        "plt.subplot(1,2,1)\n",
        "plot_image(i, predictions, test_labels, test_images)\n",
        "plt.subplot(1,2,2)\n",
        "plot_value_array(i, predictions, test_labels)\n",
        "plt.show()"
      ],
      "execution_count": 24,
      "outputs": [
        {
          "output_type": "display_data",
          "data": {
            "image/png": "[encoded data removed]",
            "text/plain": [
              "<Figure size 432x216 with 2 Axes>"
            ]
          },
          "metadata": {
            "tags": []
          }
        }
      ]
    },
    {
      "cell_type": "code",
      "metadata": {
        "id": "rVHTUOpgaaqH",
        "colab_type": "code",
        "outputId": "a84c7f80-740e-4691-aace-7470c9fbc888",
        "colab": {
          "base_uri": "https://localhost:8080/",
          "height": 609
        }
      },
      "source": [
        "num_rows = 5\n",
        "num_cols = 3\n",
        "\n",
        "num_images = num_rows*num_cols\n",
        "\n",
        "plt.figure(figsize=(2*2*num_cols, 2*num_rows))\n",
        "for i in range(num_images):\n",
        "  plt.subplot(num_rows, 2*num_cols, 2*i+1)\n",
        "  plot_image(i, predictions, test_labels, test_images)\n",
        "  plt.subplot(num_rows, 2*num_cols, 2*i+2)\n",
        "  plot_value_array(i, predictions, test_labels)\n",
        "plt.show()\n"
      ],
      "execution_count": 25,
      "outputs": [
        {
          "output_type": "display_data",
          "data": {
            "image/png": "[encoded data removed]",
            "text/plain": [
              "<Figure size 864x720 with 30 Axes>"
            ]
          },
          "metadata": {
            "tags": []
          }
        }
      ]
    },
    {
      "cell_type": "markdown",
      "metadata": {
        "id": "LYcTXzia40vw",
        "colab_type": "text"
      },
      "source": [
        "**마지막 모델을 사용하여 한 이미지에 대한 예측을 만듦**"
      ]
    },
    {
      "cell_type": "code",
      "metadata": {
        "id": "7mcZ4r-sfeD5",
        "colab_type": "code",
        "colab": {
          "base_uri": "https://localhost:8080/",
          "height": 34
        },
        "outputId": "4f2b80b7-34a8-4a47-f9e0-40046e79f1e2"
      },
      "source": [
        "img = test_images[0]\n",
        "print(img.shape)"
      ],
      "execution_count": 30,
      "outputs": [
        {
          "output_type": "stream",
          "text": [
            "(28, 28)\n"
          ],
          "name": "stdout"
        }
      ]
    },
    {
      "cell_type": "markdown",
      "metadata": {
        "id": "JShmguLm5y1A",
        "colab_type": "text"
      },
      "source": [
        "- tf.keras 모델은 한번에 샘플의 묶음 또는 배치(batch)로 예측을 만드는데 최적화 되어 있음\n",
        "(하나의 이미지를 사용할 때도 2차원 배열로 만들어야 함)"
      ]
    },
    {
      "cell_type": "code",
      "metadata": {
        "id": "RM65c4mX2HC6",
        "colab_type": "code",
        "colab": {
          "base_uri": "https://localhost:8080/",
          "height": 34
        },
        "outputId": "6c196756-0ab5-49d4-9bfd-accc10d9c187"
      },
      "source": [
        "img = (np.expand_dims(img, 0))\n",
        "print(img.shape)"
      ],
      "execution_count": 31,
      "outputs": [
        {
          "output_type": "stream",
          "text": [
            "(1, 28, 28)\n"
          ],
          "name": "stdout"
        }
      ]
    },
    {
      "cell_type": "code",
      "metadata": {
        "id": "a_72bfqb4cYD",
        "colab_type": "code",
        "colab": {
          "base_uri": "https://localhost:8080/",
          "height": 88
        },
        "outputId": "fdfbe946-5e90-49f7-d54a-7859f61edbf6"
      },
      "source": [
        "predictions_single = model.predict(img)\n",
        "print(predictions_single.shape)\n",
        "print(predictions_single)"
      ],
      "execution_count": 36,
      "outputs": [
        {
          "output_type": "stream",
          "text": [
            "(1, 10)\n",
            "[[5.4779186e-05 1.9705663e-08 4.5254851e-08 1.0074039e-08 1.4064381e-07\n",
            "  3.9456934e-03 1.5197660e-06 9.9437140e-02 1.1629446e-06 8.9655954e-01]]\n"
          ],
          "name": "stdout"
        }
      ]
    },
    {
      "cell_type": "code",
      "metadata": {
        "id": "Jb0nFAuZ6p8L",
        "colab_type": "code",
        "colab": {
          "base_uri": "https://localhost:8080/",
          "height": 300
        },
        "outputId": "6d47b6fb-9300-4a08-a6a7-e52f41b39fe7"
      },
      "source": [
        "plot_value_array(0, predictions_single, test_labels)\n",
        "_ = plt.xticks(range(10), class_names, rotation=45)"
      ],
      "execution_count": 35,
      "outputs": [
        {
          "output_type": "display_data",
          "data": {
            "image/png": "[encoded data removed]",
            "text/plain": [
              "<Figure size 432x288 with 1 Axes>"
            ]
          },
          "metadata": {
            "tags": []
          }
        }
      ]
    },
    {
      "cell_type": "code",
      "metadata": {
        "id": "Rk4kN5SR6_eP",
        "colab_type": "code",
        "colab": {
          "base_uri": "https://localhost:8080/",
          "height": 34
        },
        "outputId": "68c4339e-ade0-41b7-83f2-89920e73598c"
      },
      "source": [
        "np.argmax(predictions_single[0])"
      ],
      "execution_count": 38,
      "outputs": [
        {
          "output_type": "execute_result",
          "data": {
            "text/plain": [
              "9"
            ]
          },
          "metadata": {
            "tags": []
          },
          "execution_count": 38
        }
      ]
    }
  ]
}