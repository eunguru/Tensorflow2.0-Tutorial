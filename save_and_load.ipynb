{
  "nbformat": 4,
  "nbformat_minor": 0,
  "metadata": {
    "accelerator": "GPU",
    "colab": {
      "name": "save_and_load.ipynb",
      "provenance": [],
      "collapsed_sections": [],
      "toc_visible": true
    },
    "kernelspec": {
      "display_name": "Python 3",
      "language": "python",
      "name": "python3"
    },
    "language_info": {
      "codemirror_mode": {
        "name": "ipython",
        "version": 3
      },
      "file_extension": ".py",
      "mimetype": "text/x-python",
      "name": "python",
      "nbconvert_exporter": "python",
      "pygments_lexer": "ipython3",
      "version": "3.7.3"
    }
  },
  "cells": [
    {
      "cell_type": "markdown",
      "metadata": {
        "colab_type": "text",
        "id": "7dNg9662K7Q9"
      },
      "source": [
        "## 모델 저장과 복원\n",
        "- [튜토리얼바로가기](https://www.tensorflow.org/tutorials/keras/save_and_load)\n",
        "- 훈련하는 도중이나 훈련이 끝난후 모델을 저장할 수 있음\n",
        "  - 모델을 중지된 지점부터 다시 훈련할 수 있음\n",
        "  - 모델저장시 모델 공유가능, 작업재현 가능\n",
        "- 연구한 모델과 기법 공개시 **모델을 만드는 코드, 모델의 훈련된 가중치 또는 파라미터** 등을 제공\n",
        "  - 모델의 작동방식 이해와 새로운 데이터로 모델을 실험하는데 도움이 됨\n",
        "- 저장방식: 사용하는 API에 따라 다름, 현재 문서에서는 tf.kera 고수준 API사용\n",
        "  - [다른방법참조-저장과 복원](https://www.tensorflow.org/guide/saved_model)\n",
        "  - [다른방법참조-저장하기](https://www.tensorflow.org/guide/eager#object-based_saving)"
      ]
    },
    {
      "cell_type": "markdown",
      "metadata": {
        "colab_type": "text",
        "id": "rGdFs64RNEQz"
      },
      "source": [
        "### 설정\n",
        "설치와 임포트\n",
        "- 필요한 라이브러리 설치(설치가 안되어 있을경우에는 `pip install -q h5py pyyaml`을 통해 라이브러리 설치"
      ]
    },
    {
      "cell_type": "code",
      "metadata": {
        "colab_type": "code",
        "id": "iYyihy8RObGt",
        "colab": {
          "base_uri": "https://localhost:8080/",
          "height": 34
        },
        "outputId": "8cb099ed-bfd4-43ce-cab6-b4ef165ab21d"
      },
      "source": [
        "try:\n",
        "  # Colab only\n",
        "  %tensorflow_version 2.x\n",
        "except Exception:\n",
        "  pass"
      ],
      "execution_count": 1,
      "outputs": [
        {
          "output_type": "stream",
          "text": [
            "TensorFlow 2.x selected.\n"
          ],
          "name": "stdout"
        }
      ]
    },
    {
      "cell_type": "code",
      "metadata": {
        "colab_type": "code",
        "id": "h0TMAGj5KX_v",
        "outputId": "fc6f8499-e858-48e1-b0cb-29a888f2794c",
        "colab": {
          "base_uri": "https://localhost:8080/",
          "height": 374
        }
      },
      "source": [
        "!pip show h5py pyyaml"
      ],
      "execution_count": 2,
      "outputs": [
        {
          "output_type": "stream",
          "text": [
            "Name: h5py\n",
            "Version: 2.10.0\n",
            "Summary: Read and write HDF5 files from Python\n",
            "Home-page: http://www.h5py.org\n",
            "Author: Andrew Collette\n",
            "Author-email: andrew.collette@gmail.com\n",
            "License: BSD\n",
            "Location: /tensorflow-2.1.0/python3.6\n",
            "Requires: six, numpy\n",
            "Required-by: Keras-Applications, textgenrnn, tensor2tensor, pymc3, Keras, keras-vis\n",
            "---\n",
            "Name: PyYAML\n",
            "Version: 3.13\n",
            "Summary: YAML parser and emitter for Python\n",
            "Home-page: http://pyyaml.org/wiki/PyYAML\n",
            "Author: Kirill Simonov\n",
            "Author-email: xi@resolvent.net\n",
            "License: MIT\n",
            "Location: /usr/local/lib/python3.6/dist-packages\n",
            "Requires: \n",
            "Required-by: PyDrive, Keras, featuretools, fastai, distributed, coveralls, bokeh\n"
          ],
          "name": "stdout"
        }
      ]
    },
    {
      "cell_type": "markdown",
      "metadata": {
        "colab_type": "text",
        "id": "s72i5t9rNb7N"
      },
      "source": [
        "**예제 데이터셋 받기**\n",
        "- [MNIST데이터셋](http://yann.lecun.com/exdb/mnist/)으로 모델 훈련, 가중치 저장하는 예제 구현\n",
        "  - 모델 실행속도를 빠르게 하기 위해 처음 10,000개만 사용"
      ]
    },
    {
      "cell_type": "code",
      "metadata": {
        "colab_type": "code",
        "id": "h_tg1bAOM0bD",
        "outputId": "3d524e42-c728-4f5f-ad4d-3a6900243dba",
        "colab": {
          "base_uri": "https://localhost:8080/",
          "height": 34
        }
      },
      "source": [
        "from __future__ import absolute_import, division, print_function, unicode_literals\n",
        "\n",
        "import os\n",
        "\n",
        "import tensorflow as tf\n",
        "from tensorflow import keras\n",
        "\n",
        "tf.__version__"
      ],
      "execution_count": 3,
      "outputs": [
        {
          "output_type": "execute_result",
          "data": {
            "text/plain": [
              "'2.1.0-rc1'"
            ]
          },
          "metadata": {
            "tags": []
          },
          "execution_count": 3
        }
      ]
    },
    {
      "cell_type": "code",
      "metadata": {
        "colab_type": "code",
        "id": "wItNEvjZOVv8",
        "colab": {
          "base_uri": "https://localhost:8080/",
          "height": 51
        },
        "outputId": "9db5556f-a815-431e-f701-8156c12f5189"
      },
      "source": [
        "(train_images, train_labels), (test_images, test_labels) = tf.keras.datasets.mnist.load_data()\n",
        "\n",
        "#print(train_images.shape)\n",
        "#print(train_labels.shape)\n",
        "#print(test_images.shape)\n",
        "#print(test_labels.shape)\n",
        "\n",
        "train_labels = train_labels[:10000]\n",
        "test_labels = test_labels[:10000]\n",
        "\n",
        "train_images = train_images[:10000].reshape(-1, 28*28)/255.0\n",
        "test_images = test_images[:10000].reshape(-1, 28*28)/255.0\n",
        "\n",
        "#print(test_images[0])"
      ],
      "execution_count": 4,
      "outputs": [
        {
          "output_type": "stream",
          "text": [
            "Downloading data from https://storage.googleapis.com/tensorflow/tf-keras-datasets/mnist.npz\n",
            "11493376/11490434 [==============================] - 0s 0us/step\n"
          ],
          "name": "stdout"
        }
      ]
    },
    {
      "cell_type": "markdown",
      "metadata": {
        "colab_type": "text",
        "id": "PJihHxLqO3cY"
      },
      "source": [
        "**모델정의**"
      ]
    },
    {
      "cell_type": "code",
      "metadata": {
        "colab_type": "code",
        "id": "GhYVoX10S2rx",
        "outputId": "ebe81052-b707-4572-e784-6cbfcc558b16",
        "colab": {
          "base_uri": "https://localhost:8080/",
          "height": 255
        }
      },
      "source": [
        "# 간단한 Sequential 모델을 반환\n",
        "def create_model():\n",
        "  model = tf.keras.models.Sequential([\n",
        "                                     keras.layers.Dense(512, activation='relu', input_shape=(784,)),\n",
        "                                     keras.layers.Dropout(0.2),\n",
        "                                     keras.layers.Dense(10, activation='softmax')\n",
        "  ])\n",
        "\n",
        "  model.compile(optimizer='adam',\n",
        "                loss='sparse_categorical_crossentropy',\n",
        "                metrics=['accuracy'])\n",
        "  return model\n",
        "\n",
        "# 모델 객체를 만듦\n",
        "model = create_model()\n",
        "model.summary()"
      ],
      "execution_count": 5,
      "outputs": [
        {
          "output_type": "stream",
          "text": [
            "Model: \"sequential\"\n",
            "_________________________________________________________________\n",
            "Layer (type)                 Output Shape              Param #   \n",
            "=================================================================\n",
            "dense (Dense)                (None, 512)               401920    \n",
            "_________________________________________________________________\n",
            "dropout (Dropout)            (None, 512)               0         \n",
            "_________________________________________________________________\n",
            "dense_1 (Dense)              (None, 10)                5130      \n",
            "=================================================================\n",
            "Total params: 407,050\n",
            "Trainable params: 407,050\n",
            "Non-trainable params: 0\n",
            "_________________________________________________________________\n"
          ],
          "name": "stdout"
        }
      ]
    },
    {
      "cell_type": "markdown",
      "metadata": {
        "colab_type": "text",
        "id": "JOQ6_EVUTSKo"
      },
      "source": [
        "### 훈련하는 동안 체크포인트 저장하기\n",
        "- 체크포인트(checkpoint) 자동 저장\n",
        "  - 훈련 중간과 훈련 마지막에 체크포인트 저장을 많이 사용하는 방법\n",
        "  - 다시 훈련하지 않고 모델을 재사용하거나 훈련과정이 중지된 경우 이어서 훈련 진행\n",
        "  - [`tf.keras.callbacks.ModelCheckPoint`](https://www.tensorflow.org/api_docs/python/tf/keras/callbacks/ModelCheckpoint)콜백 사용\n",
        "\n",
        "**체크포인트 콜백사용**\n"
      ]
    },
    {
      "cell_type": "code",
      "metadata": {
        "colab_type": "code",
        "id": "ZL6QaGbWWr3S",
        "outputId": "4d6c7d04-9ae3-44c9-a190-ecce7adff41c",
        "colab": {
          "base_uri": "https://localhost:8080/",
          "height": 751
        }
      },
      "source": [
        "checkpoint_path = 'training_1/cp.ckpt'\n",
        "checkpoint_dir = os.path.dirname(checkpoint_path)\n",
        "\n",
        "cp_callback = tf.keras.callbacks.ModelCheckpoint(checkpoint_path,\n",
        "                                                 save_weights_only=True,\n",
        "                                                 verbose=1)\n",
        "\n",
        "model = create_model()\n",
        "model.fit(train_images, train_labels, epochs=10,\n",
        "          validation_data = (test_images, test_labels),\n",
        "          callbacks = [cp_callback])  # 훈련단계 콜백을 전달"
      ],
      "execution_count": 6,
      "outputs": [
        {
          "output_type": "stream",
          "text": [
            "Train on 10000 samples, validate on 10000 samples\n",
            "Epoch 1/10\n",
            " 9728/10000 [============================>.] - ETA: 0s - loss: 0.4383 - accuracy: 0.8743\n",
            "Epoch 00001: saving model to training_1/cp.ckpt\n",
            "10000/10000 [==============================] - 4s 353us/sample - loss: 0.4335 - accuracy: 0.8758 - val_loss: 0.2607 - val_accuracy: 0.9224\n",
            "Epoch 2/10\n",
            " 9888/10000 [============================>.] - ETA: 0s - loss: 0.1920 - accuracy: 0.9437\n",
            "Epoch 00002: saving model to training_1/cp.ckpt\n",
            "10000/10000 [==============================] - 1s 136us/sample - loss: 0.1943 - accuracy: 0.9433 - val_loss: 0.1993 - val_accuracy: 0.9385\n",
            "Epoch 3/10\n",
            " 9856/10000 [============================>.] - ETA: 0s - loss: 0.1344 - accuracy: 0.9602\n",
            "Epoch 00003: saving model to training_1/cp.ckpt\n",
            "10000/10000 [==============================] - 1s 138us/sample - loss: 0.1337 - accuracy: 0.9603 - val_loss: 0.1670 - val_accuracy: 0.9481\n",
            "Epoch 4/10\n",
            " 9728/10000 [============================>.] - ETA: 0s - loss: 0.0909 - accuracy: 0.9752\n",
            "Epoch 00004: saving model to training_1/cp.ckpt\n",
            "10000/10000 [==============================] - 1s 144us/sample - loss: 0.0914 - accuracy: 0.9749 - val_loss: 0.1616 - val_accuracy: 0.9493\n",
            "Epoch 5/10\n",
            " 9760/10000 [============================>.] - ETA: 0s - loss: 0.0708 - accuracy: 0.9801\n",
            "Epoch 00005: saving model to training_1/cp.ckpt\n",
            "10000/10000 [==============================] - 1s 145us/sample - loss: 0.0701 - accuracy: 0.9805 - val_loss: 0.1515 - val_accuracy: 0.9551\n",
            "Epoch 6/10\n",
            " 9824/10000 [============================>.] - ETA: 0s - loss: 0.0484 - accuracy: 0.9870\n",
            "Epoch 00006: saving model to training_1/cp.ckpt\n",
            "10000/10000 [==============================] - 1s 148us/sample - loss: 0.0487 - accuracy: 0.9869 - val_loss: 0.1327 - val_accuracy: 0.9601\n",
            "Epoch 7/10\n",
            " 9728/10000 [============================>.] - ETA: 0s - loss: 0.0377 - accuracy: 0.9910\n",
            "Epoch 00007: saving model to training_1/cp.ckpt\n",
            "10000/10000 [==============================] - 2s 151us/sample - loss: 0.0373 - accuracy: 0.9910 - val_loss: 0.1438 - val_accuracy: 0.9572\n",
            "Epoch 8/10\n",
            " 9888/10000 [============================>.] - ETA: 0s - loss: 0.0309 - accuracy: 0.9918\n",
            "Epoch 00008: saving model to training_1/cp.ckpt\n",
            "10000/10000 [==============================] - 1s 145us/sample - loss: 0.0308 - accuracy: 0.9918 - val_loss: 0.1440 - val_accuracy: 0.9572\n",
            "Epoch 9/10\n",
            " 9824/10000 [============================>.] - ETA: 0s - loss: 0.0248 - accuracy: 0.9940\n",
            "Epoch 00009: saving model to training_1/cp.ckpt\n",
            "10000/10000 [==============================] - 1s 144us/sample - loss: 0.0248 - accuracy: 0.9940 - val_loss: 0.1306 - val_accuracy: 0.9626\n",
            "Epoch 10/10\n",
            " 9760/10000 [============================>.] - ETA: 0s - loss: 0.0194 - accuracy: 0.9957\n",
            "Epoch 00010: saving model to training_1/cp.ckpt\n",
            "10000/10000 [==============================] - 1s 144us/sample - loss: 0.0195 - accuracy: 0.9956 - val_loss: 0.1443 - val_accuracy: 0.9604\n"
          ],
          "name": "stdout"
        },
        {
          "output_type": "execute_result",
          "data": {
            "text/plain": [
              "<tensorflow.python.keras.callbacks.History at 0x7f0bf02f6550>"
            ]
          },
          "metadata": {
            "tags": []
          },
          "execution_count": 6
        }
      ]
    },
    {
      "cell_type": "code",
      "metadata": {
        "colab_type": "code",
        "id": "JREdd-ZBbffX",
        "outputId": "48b7e4a1-06e4-47ea-960f-adb7f0222957",
        "colab": {
          "base_uri": "https://localhost:8080/",
          "height": 51
        }
      },
      "source": [
        "!ls {checkpoint_dir}"
      ],
      "execution_count": 7,
      "outputs": [
        {
          "output_type": "stream",
          "text": [
            "checkpoint\t\t     cp.ckpt.data-00001-of-00002\n",
            "cp.ckpt.data-00000-of-00002  cp.ckpt.index\n"
          ],
          "name": "stdout"
        }
      ]
    },
    {
      "cell_type": "markdown",
      "metadata": {
        "colab_type": "text",
        "id": "NJWIiTDB0CIj"
      },
      "source": [
        "- 훈련하지 않은 새모델 생성, 테스트 세트에서 평가\n",
        "  - 훈련하지 않은 모델의 성능은 무작위로 선택하는 정도의 수준(~10% 정확도)"
      ]
    },
    {
      "cell_type": "code",
      "metadata": {
        "colab_type": "code",
        "id": "8GGMG3rhbopp",
        "outputId": "e1270df0-6bbf-41c2-d9b9-8c7de65bdae0",
        "colab": {
          "base_uri": "https://localhost:8080/",
          "height": 51
        }
      },
      "source": [
        "model = create_model()\n",
        "loss, acc = model.evaluate(test_images, test_labels, verbose=2)\n",
        "print(\"훈련되지 않은 모델의 정확도: {:5.2f}%\".format(100*acc))"
      ],
      "execution_count": 8,
      "outputs": [
        {
          "output_type": "stream",
          "text": [
            "10000/10000 - 1s - loss: 2.4225 - accuracy: 0.1058\n",
            "훈련되지 않은 모델의 정확도: 10.58%\n"
          ],
          "name": "stdout"
        }
      ]
    },
    {
      "cell_type": "markdown",
      "metadata": {
        "colab_type": "text",
        "id": "83yK28wvz42E"
      },
      "source": [
        "- 체크포인트에서 가중치를 로드하고 다시 평가\n",
        "  - **단, 가중치만 복원할땐 원본 모델과 동일한 구조로 모델을 만들어야 함**"
      ]
    },
    {
      "cell_type": "code",
      "metadata": {
        "colab_type": "code",
        "id": "Fhs9KP8H0eZ8",
        "outputId": "f33354a5-2bb6-4e70-91e6-a94397cff5ce",
        "colab": {
          "base_uri": "https://localhost:8080/",
          "height": 51
        }
      },
      "source": [
        "model.load_weights(checkpoint_path)\n",
        "loss, acc = model.evaluate(test_images, test_labels, verbose=2)\n",
        "print(\"복원된 모델의 정확도: {:5.2f}%\".format(100*acc))"
      ],
      "execution_count": 9,
      "outputs": [
        {
          "output_type": "stream",
          "text": [
            "10000/10000 - 1s - loss: 0.1443 - accuracy: 0.9604\n",
            "복원된 모델의 정확도: 96.04%\n"
          ],
          "name": "stdout"
        }
      ]
    },
    {
      "cell_type": "markdown",
      "metadata": {
        "colab_type": "text",
        "id": "UPqpbBPi09sI"
      },
      "source": [
        "**체크포인트 콜백 매개변수**\n",
        "- 콜백함수에서 제공하는 매개변수\n",
        "  - 체크포인트 이름을 고유하게 만들기\n",
        "  - 체크포인트 주기를 조정하기"
      ]
    },
    {
      "cell_type": "code",
      "metadata": {
        "colab_type": "code",
        "id": "N97Jyl4c1UXR",
        "outputId": "99830e77-842d-4d05-98e2-a82976e8e3ea",
        "colab": {
          "base_uri": "https://localhost:8080/",
          "height": 411
        }
      },
      "source": [
        "checkpoint_path = 'training_2/cp--{epoch:04d}.ckpt'\n",
        "checkpoint_dir = os.path.dirname(checkpoint_path)\n",
        "\n",
        "cp_callback = tf.keras.callbacks.ModelCheckpoint(checkpoint_path,\n",
        "                                                 save_weights_only=True,\n",
        "                                                 verbose=1,\n",
        "                                                 period=5)  # 5번째 에포크마다 가중치를 저장\n",
        "model = create_model()\n",
        "# 수동으로 가중치 저장\n",
        "model.save_weights(checkpoint_path.format(epoch=0))\n",
        "model.fit(train_images, train_labels,\n",
        "          epochs=50, callbacks=[cp_callback],\n",
        "          validation_data = (test_images, test_labels),\n",
        "          verbose=0)"
      ],
      "execution_count": 10,
      "outputs": [
        {
          "output_type": "stream",
          "text": [
            "WARNING:tensorflow:`period` argument is deprecated. Please use `save_freq` to specify the frequency in number of samples seen.\n",
            "\n",
            "Epoch 00005: saving model to training_2/cp--0005.ckpt\n",
            "\n",
            "Epoch 00010: saving model to training_2/cp--0010.ckpt\n",
            "\n",
            "Epoch 00015: saving model to training_2/cp--0015.ckpt\n",
            "\n",
            "Epoch 00020: saving model to training_2/cp--0020.ckpt\n",
            "\n",
            "Epoch 00025: saving model to training_2/cp--0025.ckpt\n",
            "\n",
            "Epoch 00030: saving model to training_2/cp--0030.ckpt\n",
            "\n",
            "Epoch 00035: saving model to training_2/cp--0035.ckpt\n",
            "\n",
            "Epoch 00040: saving model to training_2/cp--0040.ckpt\n",
            "\n",
            "Epoch 00045: saving model to training_2/cp--0045.ckpt\n",
            "\n",
            "Epoch 00050: saving model to training_2/cp--0050.ckpt\n"
          ],
          "name": "stdout"
        },
        {
          "output_type": "execute_result",
          "data": {
            "text/plain": [
              "<tensorflow.python.keras.callbacks.History at 0x7f0bf00adf60>"
            ]
          },
          "metadata": {
            "tags": []
          },
          "execution_count": 10
        }
      ]
    },
    {
      "cell_type": "code",
      "metadata": {
        "colab_type": "code",
        "id": "l_Wdvck42Yjq",
        "outputId": "66d1ae0d-6fb2-4735-e6b2-08cc99d38c46",
        "colab": {
          "base_uri": "https://localhost:8080/",
          "height": 306
        }
      },
      "source": [
        "!ls {checkpoint_dir}"
      ],
      "execution_count": 11,
      "outputs": [
        {
          "output_type": "stream",
          "text": [
            "checkpoint\t\t\t   cp--0025.ckpt.data-00001-of-00002\n",
            "cp--0000.ckpt.data-00000-of-00002  cp--0025.ckpt.index\n",
            "cp--0000.ckpt.data-00001-of-00002  cp--0030.ckpt.data-00000-of-00002\n",
            "cp--0000.ckpt.index\t\t   cp--0030.ckpt.data-00001-of-00002\n",
            "cp--0005.ckpt.data-00000-of-00002  cp--0030.ckpt.index\n",
            "cp--0005.ckpt.data-00001-of-00002  cp--0035.ckpt.data-00000-of-00002\n",
            "cp--0005.ckpt.index\t\t   cp--0035.ckpt.data-00001-of-00002\n",
            "cp--0010.ckpt.data-00000-of-00002  cp--0035.ckpt.index\n",
            "cp--0010.ckpt.data-00001-of-00002  cp--0040.ckpt.data-00000-of-00002\n",
            "cp--0010.ckpt.index\t\t   cp--0040.ckpt.data-00001-of-00002\n",
            "cp--0015.ckpt.data-00000-of-00002  cp--0040.ckpt.index\n",
            "cp--0015.ckpt.data-00001-of-00002  cp--0045.ckpt.data-00000-of-00002\n",
            "cp--0015.ckpt.index\t\t   cp--0045.ckpt.data-00001-of-00002\n",
            "cp--0020.ckpt.data-00000-of-00002  cp--0045.ckpt.index\n",
            "cp--0020.ckpt.data-00001-of-00002  cp--0050.ckpt.data-00000-of-00002\n",
            "cp--0020.ckpt.index\t\t   cp--0050.ckpt.data-00001-of-00002\n",
            "cp--0025.ckpt.data-00000-of-00002  cp--0050.ckpt.index\n"
          ],
          "name": "stdout"
        }
      ]
    },
    {
      "cell_type": "code",
      "metadata": {
        "colab_type": "code",
        "id": "sizl0adD3fH4",
        "outputId": "f8e1534d-4c55-4580-b20a-05ceb64e4419",
        "colab": {
          "base_uri": "https://localhost:8080/",
          "height": 34
        }
      },
      "source": [
        "# 가장 마지막에 만들어진 체크포인트 확인\n",
        "lastest = tf.train.latest_checkpoint(checkpoint_dir)\n",
        "lastest"
      ],
      "execution_count": 12,
      "outputs": [
        {
          "output_type": "execute_result",
          "data": {
            "text/plain": [
              "'training_2/cp--0050.ckpt'"
            ]
          },
          "metadata": {
            "tags": []
          },
          "execution_count": 12
        }
      ]
    },
    {
      "cell_type": "markdown",
      "metadata": {
        "colab_type": "text",
        "id": "A4Zs6xsD4FEh"
      },
      "source": [
        "### 체크포인트 파일\n",
        "- 체크포인트에 저장되어 있는 정보\n",
        "  - 모델의 가중치를 포함하는 하나 이상의 샤드(shard)\n",
        "  - 가중치가 어느 샤드에 저장되어 있는지를 나타내는 인덱스 파일\n",
        "- 단일 머신에서 훈련한다면 .data-00000-of-00001 확장자를 가진 샤드 하나만 만들어 짐\n"
      ]
    },
    {
      "cell_type": "markdown",
      "metadata": {
        "colab_type": "text",
        "id": "zewbwr645S2E"
      },
      "source": [
        "### 수동으로 가중치 저장하기\n",
        "- 수동으로 가중치 저장하는 방법: [`Model.save_weights`](https://www.tensorflow.org/api_docs/python/tf/keras/Model#save_weights)메서드 사용"
      ]
    },
    {
      "cell_type": "code",
      "metadata": {
        "colab_type": "code",
        "id": "Fv9wK_lo5nNd",
        "outputId": "947f20f3-66ba-41f5-84f2-01542decfa3a",
        "colab": {
          "base_uri": "https://localhost:8080/",
          "height": 51
        }
      },
      "source": [
        "# 가중치를 저장\n",
        "model.save_weights('./checkpoints/my_checkpoint')\n",
        "\n",
        "# 가중치를 복원\n",
        "model = create_model()\n",
        "model.load_weights('./checkpoints/my_checkpoint')\n",
        "\n",
        "loss, acc = model.evaluate(test_images, test_labels, verbose=2)\n",
        "print(\"복원된 모델의 정확도: {:5.2f}%\".format(100*acc))"
      ],
      "execution_count": 13,
      "outputs": [
        {
          "output_type": "stream",
          "text": [
            "10000/10000 - 1s - loss: 0.2188 - accuracy: 0.9667\n",
            "복원된 모델의 정확도: 96.67%\n"
          ],
          "name": "stdout"
        }
      ]
    },
    {
      "cell_type": "markdown",
      "metadata": {
        "colab_type": "text",
        "id": "s_rUolU26dtH"
      },
      "source": [
        "### 모델 전체를 저장하기\n",
        "- 전체 모델을 파일 하나에 저장하는 방법 제공\n",
        "    - 원본 코드를 사용하지 않고 나중에 정확히 동일 상태에서 훈련을 다시 시작 가능\n",
        "- 저장되는 것들\n",
        "  - 가중치\n",
        "  - 모델 구성(구조)\n",
        "  - 옵티마이저에 지정한 설정\n",
        "    - 현재는 텐서플로우 옵티마이저를 저장할 수 없음, 모델 로드후 다시 컴파일 해야 함, 옵티마이저의 상태는 유지되지 않음\n",
        "  - 모델의 체크포인트\n",
        "\n",
        "\n",
        "**HDF5 파일로 저장하기**\n",
        "- 케라스는 [HDF5](https://en.wikipedia.org/wiki/Hierarchical_Data_Format) 표준의 기본 저장 포맷 제공\n",
        "  - 모델을 하나의 이진파일(binary blob)처럼 다룰 수 있음\n"
      ]
    },
    {
      "cell_type": "code",
      "metadata": {
        "colab_type": "code",
        "id": "57lNPMxZ7F7J",
        "outputId": "bd127648-fb5e-41a3-eac8-d08ca2218e9a",
        "colab": {
          "base_uri": "https://localhost:8080/",
          "height": 204
        }
      },
      "source": [
        "model = create_model()\n",
        "\n",
        "model.fit(train_images, train_labels, epochs=5)\n",
        "\n",
        "# 전체 모델을 HDF5파일로 저장\n",
        "model.save('my_model.h5')"
      ],
      "execution_count": 14,
      "outputs": [
        {
          "output_type": "stream",
          "text": [
            "Train on 10000 samples\n",
            "Epoch 1/5\n",
            "10000/10000 [==============================] - 1s 98us/sample - loss: 0.4306 - accuracy: 0.8739\n",
            "Epoch 2/5\n",
            "10000/10000 [==============================] - 1s 71us/sample - loss: 0.1952 - accuracy: 0.9443\n",
            "Epoch 3/5\n",
            "10000/10000 [==============================] - 1s 75us/sample - loss: 0.1300 - accuracy: 0.9605\n",
            "Epoch 4/5\n",
            "10000/10000 [==============================] - 1s 74us/sample - loss: 0.0922 - accuracy: 0.9719\n",
            "Epoch 5/5\n",
            "10000/10000 [==============================] - 1s 72us/sample - loss: 0.0679 - accuracy: 0.9807\n"
          ],
          "name": "stdout"
        }
      ]
    },
    {
      "cell_type": "code",
      "metadata": {
        "colab_type": "code",
        "id": "5fvmIlqQAiLN",
        "outputId": "5112b5e1-0604-4ce9-bf38-50999a07757b",
        "colab": {
          "base_uri": "https://localhost:8080/",
          "height": 255
        }
      },
      "source": [
        "# 가중치와 옵티마이저를 포함하여 정확히 동일한 모델을 다시 생성\n",
        "new_model = keras.models.load_model('my_model.h5')\n",
        "new_model.summary()"
      ],
      "execution_count": 15,
      "outputs": [
        {
          "output_type": "stream",
          "text": [
            "Model: \"sequential_5\"\n",
            "_________________________________________________________________\n",
            "Layer (type)                 Output Shape              Param #   \n",
            "=================================================================\n",
            "dense_10 (Dense)             (None, 512)               401920    \n",
            "_________________________________________________________________\n",
            "dropout_5 (Dropout)          (None, 512)               0         \n",
            "_________________________________________________________________\n",
            "dense_11 (Dense)             (None, 10)                5130      \n",
            "=================================================================\n",
            "Total params: 407,050\n",
            "Trainable params: 407,050\n",
            "Non-trainable params: 0\n",
            "_________________________________________________________________\n"
          ],
          "name": "stdout"
        }
      ]
    },
    {
      "cell_type": "code",
      "metadata": {
        "colab_type": "code",
        "id": "dYhEYi-ZA7nc",
        "outputId": "685ba957-def4-4388-dc97-9999e8f4a053",
        "colab": {
          "base_uri": "https://localhost:8080/",
          "height": 51
        }
      },
      "source": [
        "loss, acc = new_model.evaluate(test_images, test_labels, verbose=2)\n",
        "print(\"복원된 모델의 정확도: {:5.2f}%\".format(100*acc))"
      ],
      "execution_count": 16,
      "outputs": [
        {
          "output_type": "stream",
          "text": [
            "10000/10000 - 1s - loss: 0.1575 - accuracy: 0.9517\n",
            "복원된 모델의 정확도: 95.17%\n"
          ],
          "name": "stdout"
        }
      ]
    },
    {
      "cell_type": "markdown",
      "metadata": {
        "colab_type": "text",
        "id": "7E10dvlUBWQF"
      },
      "source": [
        "**saved_model을 사용하기(지원중단됨)**\n",
        "- 실험적인 메서드, 향후 버전에서 변경될 수 있음\n"
      ]
    }
  ]
}